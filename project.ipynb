{
  "cells": [
    {
      "cell_type": "markdown",
      "metadata": {
        "id": "jM8JVLILGOz-"
      },
      "source": [
        "# CSE437: Data Science - Coding with Real World Data"
      ]
    },
    {
      "cell_type": "markdown",
      "metadata": {
        "id": "fhs9qq5v0IPn"
      },
      "source": [
        "* Dataset: https://www.kaggle.com/datasets/meirnizri/covid19-dataset\n",
        "* Colab: https://colab.research.google.com/drive/1idoT1djGGHrrR9P8aZoXhYLN7llE2Qgt?usp=sharing"
      ]
    },
    {
      "cell_type": "markdown",
      "metadata": {
        "id": "Y6PkyYSSu87G"
      },
      "source": [
        "**NOTE -** Restart the runtime and run all after running the following cell for the first time."
      ]
    },
    {
      "cell_type": "code",
      "execution_count": null,
      "metadata": {
        "id": "II9F_Qd4mngh"
      },
      "outputs": [],
      "source": [
        "!pip install matplotlib --upgrade"
      ]
    },
    {
      "cell_type": "markdown",
      "metadata": {
        "id": "nmIbvqrmGI6o"
      },
      "source": [
        "## Import Libraries"
      ]
    },
    {
      "cell_type": "code",
      "execution_count": null,
      "metadata": {
        "colab": {
          "base_uri": "https://localhost:8080/"
        },
        "id": "CgSTosy2u3EO",
        "outputId": "25b70149-25d5-4241-b527-444fdcb51d21"
      },
      "outputs": [
        {
          "output_type": "stream",
          "name": "stdout",
          "text": [
            "Mounted at /content/drive\n"
          ]
        }
      ],
      "source": [
        "from google.colab import drive\n",
        "drive.mount('/content/drive')"
      ]
    },
    {
      "cell_type": "code",
      "execution_count": null,
      "metadata": {
        "id": "NK1_FP2TtLA0"
      },
      "outputs": [],
      "source": [
        "# Data Visualization\n",
        "import pandas as pd\n",
        "import numpy as np\n",
        "import matplotlib.pyplot as plt\n",
        "import seaborn as sns\n",
        "\n",
        "# Model Evaluation\n",
        "from sklearn.model_selection import train_test_split, cross_val_score\n",
        "from sklearn.model_selection import RandomizedSearchCV, GridSearchCV\n",
        "from sklearn.metrics import confusion_matrix, classification_report\n",
        "from sklearn.metrics import precision_score, recall_score, f1_score\n",
        "from sklearn.metrics import RocCurveDisplay"
      ]
    },
    {
      "cell_type": "markdown",
      "metadata": {
        "id": "yp5N47ZZGutn"
      },
      "source": [
        "## Data Exploration"
      ]
    },
    {
      "cell_type": "code",
      "execution_count": null,
      "metadata": {
        "id": "firmt59xyV6I"
      },
      "outputs": [],
      "source": [
        "PATH = \"/content/drive/MyDrive/project/covid-dataset.csv\" # Siam"
      ]
    },
    {
      "cell_type": "code",
      "execution_count": null,
      "metadata": {
        "colab": {
          "base_uri": "https://localhost:8080/"
        },
        "id": "MXtXQ9nirRu9",
        "outputId": "86524cc3-a3cc-4ae4-bda6-94900714ae09"
      },
      "outputs": [
        {
          "output_type": "stream",
          "name": "stdout",
          "text": [
            "ROWS: 1.05 M \n",
            "COLUMNS: 21\n"
          ]
        }
      ],
      "source": [
        "# COVID-19 Dataset\n",
        "\n",
        "df = pd.read_csv(PATH)\n",
        "\n",
        "print(f\"ROWS: {round(df.shape[0] / 1000000, 2)} M \\nCOLUMNS: {df.shape[1]}\")"
      ]
    },
    {
      "cell_type": "code",
      "execution_count": null,
      "metadata": {
        "id": "_PSZP_mgG8Y_",
        "colab": {
          "base_uri": "https://localhost:8080/",
          "height": 300
        },
        "outputId": "806e90cb-fb5a-460a-a284-d4ab592e5c77"
      },
      "outputs": [
        {
          "output_type": "execute_result",
          "data": {
            "text/plain": [
              "   USMER  MEDICAL_UNIT  SEX  PATIENT_TYPE   DATE_DIED  INTUBED  PNEUMONIA  \\\n",
              "0      2             1    1             1  03/05/2020       97          1   \n",
              "1      2             1    2             1  03/06/2020       97          1   \n",
              "2      2             1    2             2  09/06/2020        1          2   \n",
              "3      2             1    1             1  12/06/2020       97          2   \n",
              "4      2             1    2             1  21/06/2020       97          2   \n",
              "\n",
              "   AGE  PREGNANT  DIABETES  ...  ASTHMA  INMSUPR  HIPERTENSION  OTHER_DISEASE  \\\n",
              "0   65         2         2  ...       2        2             1              2   \n",
              "1   72        97         2  ...       2        2             1              2   \n",
              "2   55        97         1  ...       2        2             2              2   \n",
              "3   53         2         2  ...       2        2             2              2   \n",
              "4   68        97         1  ...       2        2             1              2   \n",
              "\n",
              "   CARDIOVASCULAR  OBESITY  RENAL_CHRONIC  TOBACCO  CLASIFFICATION_FINAL  ICU  \n",
              "0               2        2              2        2                     3   97  \n",
              "1               2        1              1        2                     5   97  \n",
              "2               2        2              2        2                     3    2  \n",
              "3               2        2              2        2                     7   97  \n",
              "4               2        2              2        2                     3   97  \n",
              "\n",
              "[5 rows x 21 columns]"
            ],
            "text/html": [
              "\n",
              "  <div id=\"df-bfb8195a-e0f4-4d88-8b10-90dc6226d713\">\n",
              "    <div class=\"colab-df-container\">\n",
              "      <div>\n",
              "<style scoped>\n",
              "    .dataframe tbody tr th:only-of-type {\n",
              "        vertical-align: middle;\n",
              "    }\n",
              "\n",
              "    .dataframe tbody tr th {\n",
              "        vertical-align: top;\n",
              "    }\n",
              "\n",
              "    .dataframe thead th {\n",
              "        text-align: right;\n",
              "    }\n",
              "</style>\n",
              "<table border=\"1\" class=\"dataframe\">\n",
              "  <thead>\n",
              "    <tr style=\"text-align: right;\">\n",
              "      <th></th>\n",
              "      <th>USMER</th>\n",
              "      <th>MEDICAL_UNIT</th>\n",
              "      <th>SEX</th>\n",
              "      <th>PATIENT_TYPE</th>\n",
              "      <th>DATE_DIED</th>\n",
              "      <th>INTUBED</th>\n",
              "      <th>PNEUMONIA</th>\n",
              "      <th>AGE</th>\n",
              "      <th>PREGNANT</th>\n",
              "      <th>DIABETES</th>\n",
              "      <th>...</th>\n",
              "      <th>ASTHMA</th>\n",
              "      <th>INMSUPR</th>\n",
              "      <th>HIPERTENSION</th>\n",
              "      <th>OTHER_DISEASE</th>\n",
              "      <th>CARDIOVASCULAR</th>\n",
              "      <th>OBESITY</th>\n",
              "      <th>RENAL_CHRONIC</th>\n",
              "      <th>TOBACCO</th>\n",
              "      <th>CLASIFFICATION_FINAL</th>\n",
              "      <th>ICU</th>\n",
              "    </tr>\n",
              "  </thead>\n",
              "  <tbody>\n",
              "    <tr>\n",
              "      <th>0</th>\n",
              "      <td>2</td>\n",
              "      <td>1</td>\n",
              "      <td>1</td>\n",
              "      <td>1</td>\n",
              "      <td>03/05/2020</td>\n",
              "      <td>97</td>\n",
              "      <td>1</td>\n",
              "      <td>65</td>\n",
              "      <td>2</td>\n",
              "      <td>2</td>\n",
              "      <td>...</td>\n",
              "      <td>2</td>\n",
              "      <td>2</td>\n",
              "      <td>1</td>\n",
              "      <td>2</td>\n",
              "      <td>2</td>\n",
              "      <td>2</td>\n",
              "      <td>2</td>\n",
              "      <td>2</td>\n",
              "      <td>3</td>\n",
              "      <td>97</td>\n",
              "    </tr>\n",
              "    <tr>\n",
              "      <th>1</th>\n",
              "      <td>2</td>\n",
              "      <td>1</td>\n",
              "      <td>2</td>\n",
              "      <td>1</td>\n",
              "      <td>03/06/2020</td>\n",
              "      <td>97</td>\n",
              "      <td>1</td>\n",
              "      <td>72</td>\n",
              "      <td>97</td>\n",
              "      <td>2</td>\n",
              "      <td>...</td>\n",
              "      <td>2</td>\n",
              "      <td>2</td>\n",
              "      <td>1</td>\n",
              "      <td>2</td>\n",
              "      <td>2</td>\n",
              "      <td>1</td>\n",
              "      <td>1</td>\n",
              "      <td>2</td>\n",
              "      <td>5</td>\n",
              "      <td>97</td>\n",
              "    </tr>\n",
              "    <tr>\n",
              "      <th>2</th>\n",
              "      <td>2</td>\n",
              "      <td>1</td>\n",
              "      <td>2</td>\n",
              "      <td>2</td>\n",
              "      <td>09/06/2020</td>\n",
              "      <td>1</td>\n",
              "      <td>2</td>\n",
              "      <td>55</td>\n",
              "      <td>97</td>\n",
              "      <td>1</td>\n",
              "      <td>...</td>\n",
              "      <td>2</td>\n",
              "      <td>2</td>\n",
              "      <td>2</td>\n",
              "      <td>2</td>\n",
              "      <td>2</td>\n",
              "      <td>2</td>\n",
              "      <td>2</td>\n",
              "      <td>2</td>\n",
              "      <td>3</td>\n",
              "      <td>2</td>\n",
              "    </tr>\n",
              "    <tr>\n",
              "      <th>3</th>\n",
              "      <td>2</td>\n",
              "      <td>1</td>\n",
              "      <td>1</td>\n",
              "      <td>1</td>\n",
              "      <td>12/06/2020</td>\n",
              "      <td>97</td>\n",
              "      <td>2</td>\n",
              "      <td>53</td>\n",
              "      <td>2</td>\n",
              "      <td>2</td>\n",
              "      <td>...</td>\n",
              "      <td>2</td>\n",
              "      <td>2</td>\n",
              "      <td>2</td>\n",
              "      <td>2</td>\n",
              "      <td>2</td>\n",
              "      <td>2</td>\n",
              "      <td>2</td>\n",
              "      <td>2</td>\n",
              "      <td>7</td>\n",
              "      <td>97</td>\n",
              "    </tr>\n",
              "    <tr>\n",
              "      <th>4</th>\n",
              "      <td>2</td>\n",
              "      <td>1</td>\n",
              "      <td>2</td>\n",
              "      <td>1</td>\n",
              "      <td>21/06/2020</td>\n",
              "      <td>97</td>\n",
              "      <td>2</td>\n",
              "      <td>68</td>\n",
              "      <td>97</td>\n",
              "      <td>1</td>\n",
              "      <td>...</td>\n",
              "      <td>2</td>\n",
              "      <td>2</td>\n",
              "      <td>1</td>\n",
              "      <td>2</td>\n",
              "      <td>2</td>\n",
              "      <td>2</td>\n",
              "      <td>2</td>\n",
              "      <td>2</td>\n",
              "      <td>3</td>\n",
              "      <td>97</td>\n",
              "    </tr>\n",
              "  </tbody>\n",
              "</table>\n",
              "<p>5 rows × 21 columns</p>\n",
              "</div>\n",
              "      <button class=\"colab-df-convert\" onclick=\"convertToInteractive('df-bfb8195a-e0f4-4d88-8b10-90dc6226d713')\"\n",
              "              title=\"Convert this dataframe to an interactive table.\"\n",
              "              style=\"display:none;\">\n",
              "        \n",
              "  <svg xmlns=\"http://www.w3.org/2000/svg\" height=\"24px\"viewBox=\"0 0 24 24\"\n",
              "       width=\"24px\">\n",
              "    <path d=\"M0 0h24v24H0V0z\" fill=\"none\"/>\n",
              "    <path d=\"M18.56 5.44l.94 2.06.94-2.06 2.06-.94-2.06-.94-.94-2.06-.94 2.06-2.06.94zm-11 1L8.5 8.5l.94-2.06 2.06-.94-2.06-.94L8.5 2.5l-.94 2.06-2.06.94zm10 10l.94 2.06.94-2.06 2.06-.94-2.06-.94-.94-2.06-.94 2.06-2.06.94z\"/><path d=\"M17.41 7.96l-1.37-1.37c-.4-.4-.92-.59-1.43-.59-.52 0-1.04.2-1.43.59L10.3 9.45l-7.72 7.72c-.78.78-.78 2.05 0 2.83L4 21.41c.39.39.9.59 1.41.59.51 0 1.02-.2 1.41-.59l7.78-7.78 2.81-2.81c.8-.78.8-2.07 0-2.86zM5.41 20L4 18.59l7.72-7.72 1.47 1.35L5.41 20z\"/>\n",
              "  </svg>\n",
              "      </button>\n",
              "      \n",
              "  <style>\n",
              "    .colab-df-container {\n",
              "      display:flex;\n",
              "      flex-wrap:wrap;\n",
              "      gap: 12px;\n",
              "    }\n",
              "\n",
              "    .colab-df-convert {\n",
              "      background-color: #E8F0FE;\n",
              "      border: none;\n",
              "      border-radius: 50%;\n",
              "      cursor: pointer;\n",
              "      display: none;\n",
              "      fill: #1967D2;\n",
              "      height: 32px;\n",
              "      padding: 0 0 0 0;\n",
              "      width: 32px;\n",
              "    }\n",
              "\n",
              "    .colab-df-convert:hover {\n",
              "      background-color: #E2EBFA;\n",
              "      box-shadow: 0px 1px 2px rgba(60, 64, 67, 0.3), 0px 1px 3px 1px rgba(60, 64, 67, 0.15);\n",
              "      fill: #174EA6;\n",
              "    }\n",
              "\n",
              "    [theme=dark] .colab-df-convert {\n",
              "      background-color: #3B4455;\n",
              "      fill: #D2E3FC;\n",
              "    }\n",
              "\n",
              "    [theme=dark] .colab-df-convert:hover {\n",
              "      background-color: #434B5C;\n",
              "      box-shadow: 0px 1px 3px 1px rgba(0, 0, 0, 0.15);\n",
              "      filter: drop-shadow(0px 1px 2px rgba(0, 0, 0, 0.3));\n",
              "      fill: #FFFFFF;\n",
              "    }\n",
              "  </style>\n",
              "\n",
              "      <script>\n",
              "        const buttonEl =\n",
              "          document.querySelector('#df-bfb8195a-e0f4-4d88-8b10-90dc6226d713 button.colab-df-convert');\n",
              "        buttonEl.style.display =\n",
              "          google.colab.kernel.accessAllowed ? 'block' : 'none';\n",
              "\n",
              "        async function convertToInteractive(key) {\n",
              "          const element = document.querySelector('#df-bfb8195a-e0f4-4d88-8b10-90dc6226d713');\n",
              "          const dataTable =\n",
              "            await google.colab.kernel.invokeFunction('convertToInteractive',\n",
              "                                                     [key], {});\n",
              "          if (!dataTable) return;\n",
              "\n",
              "          const docLinkHtml = 'Like what you see? Visit the ' +\n",
              "            '<a target=\"_blank\" href=https://colab.research.google.com/notebooks/data_table.ipynb>data table notebook</a>'\n",
              "            + ' to learn more about interactive tables.';\n",
              "          element.innerHTML = '';\n",
              "          dataTable['output_type'] = 'display_data';\n",
              "          await google.colab.output.renderOutput(dataTable, element);\n",
              "          const docLink = document.createElement('div');\n",
              "          docLink.innerHTML = docLinkHtml;\n",
              "          element.appendChild(docLink);\n",
              "        }\n",
              "      </script>\n",
              "    </div>\n",
              "  </div>\n",
              "  "
            ]
          },
          "metadata": {},
          "execution_count": 6
        }
      ],
      "source": [
        "df.head()"
      ]
    },
    {
      "cell_type": "code",
      "execution_count": null,
      "metadata": {
        "id": "vH2dzg2oHAp5",
        "colab": {
          "base_uri": "https://localhost:8080/",
          "height": 386
        },
        "outputId": "7005bf57-0739-49db-e216-f4bed7aada4c"
      },
      "outputs": [
        {
          "output_type": "execute_result",
          "data": {
            "text/plain": [
              "         USMER  MEDICAL_UNIT  SEX  PATIENT_TYPE   DATE_DIED  INTUBED  \\\n",
              "1048570      2            13    2             1  9999-99-99       97   \n",
              "1048571      1            13    2             2  9999-99-99        2   \n",
              "1048572      2            13    2             1  9999-99-99       97   \n",
              "1048573      2            13    2             1  9999-99-99       97   \n",
              "1048574      2            13    2             1  9999-99-99       97   \n",
              "\n",
              "         PNEUMONIA  AGE  PREGNANT  DIABETES  ...  ASTHMA  INMSUPR  \\\n",
              "1048570          2   40        97         2  ...       2        2   \n",
              "1048571          2   51        97         2  ...       2        2   \n",
              "1048572          2   55        97         2  ...       2        2   \n",
              "1048573          2   28        97         2  ...       2        2   \n",
              "1048574          2   52        97         2  ...       2        2   \n",
              "\n",
              "         HIPERTENSION  OTHER_DISEASE  CARDIOVASCULAR  OBESITY  RENAL_CHRONIC  \\\n",
              "1048570             2              2               2        2              2   \n",
              "1048571             1              2               2        2              2   \n",
              "1048572             2              2               2        2              2   \n",
              "1048573             2              2               2        2              2   \n",
              "1048574             2              2               2        2              2   \n",
              "\n",
              "         TOBACCO  CLASIFFICATION_FINAL  ICU  \n",
              "1048570        2                     7   97  \n",
              "1048571        2                     7    2  \n",
              "1048572        2                     7   97  \n",
              "1048573        2                     7   97  \n",
              "1048574        2                     7   97  \n",
              "\n",
              "[5 rows x 21 columns]"
            ],
            "text/html": [
              "\n",
              "  <div id=\"df-dd080b13-75f4-40f3-8c84-5f81517a827e\">\n",
              "    <div class=\"colab-df-container\">\n",
              "      <div>\n",
              "<style scoped>\n",
              "    .dataframe tbody tr th:only-of-type {\n",
              "        vertical-align: middle;\n",
              "    }\n",
              "\n",
              "    .dataframe tbody tr th {\n",
              "        vertical-align: top;\n",
              "    }\n",
              "\n",
              "    .dataframe thead th {\n",
              "        text-align: right;\n",
              "    }\n",
              "</style>\n",
              "<table border=\"1\" class=\"dataframe\">\n",
              "  <thead>\n",
              "    <tr style=\"text-align: right;\">\n",
              "      <th></th>\n",
              "      <th>USMER</th>\n",
              "      <th>MEDICAL_UNIT</th>\n",
              "      <th>SEX</th>\n",
              "      <th>PATIENT_TYPE</th>\n",
              "      <th>DATE_DIED</th>\n",
              "      <th>INTUBED</th>\n",
              "      <th>PNEUMONIA</th>\n",
              "      <th>AGE</th>\n",
              "      <th>PREGNANT</th>\n",
              "      <th>DIABETES</th>\n",
              "      <th>...</th>\n",
              "      <th>ASTHMA</th>\n",
              "      <th>INMSUPR</th>\n",
              "      <th>HIPERTENSION</th>\n",
              "      <th>OTHER_DISEASE</th>\n",
              "      <th>CARDIOVASCULAR</th>\n",
              "      <th>OBESITY</th>\n",
              "      <th>RENAL_CHRONIC</th>\n",
              "      <th>TOBACCO</th>\n",
              "      <th>CLASIFFICATION_FINAL</th>\n",
              "      <th>ICU</th>\n",
              "    </tr>\n",
              "  </thead>\n",
              "  <tbody>\n",
              "    <tr>\n",
              "      <th>1048570</th>\n",
              "      <td>2</td>\n",
              "      <td>13</td>\n",
              "      <td>2</td>\n",
              "      <td>1</td>\n",
              "      <td>9999-99-99</td>\n",
              "      <td>97</td>\n",
              "      <td>2</td>\n",
              "      <td>40</td>\n",
              "      <td>97</td>\n",
              "      <td>2</td>\n",
              "      <td>...</td>\n",
              "      <td>2</td>\n",
              "      <td>2</td>\n",
              "      <td>2</td>\n",
              "      <td>2</td>\n",
              "      <td>2</td>\n",
              "      <td>2</td>\n",
              "      <td>2</td>\n",
              "      <td>2</td>\n",
              "      <td>7</td>\n",
              "      <td>97</td>\n",
              "    </tr>\n",
              "    <tr>\n",
              "      <th>1048571</th>\n",
              "      <td>1</td>\n",
              "      <td>13</td>\n",
              "      <td>2</td>\n",
              "      <td>2</td>\n",
              "      <td>9999-99-99</td>\n",
              "      <td>2</td>\n",
              "      <td>2</td>\n",
              "      <td>51</td>\n",
              "      <td>97</td>\n",
              "      <td>2</td>\n",
              "      <td>...</td>\n",
              "      <td>2</td>\n",
              "      <td>2</td>\n",
              "      <td>1</td>\n",
              "      <td>2</td>\n",
              "      <td>2</td>\n",
              "      <td>2</td>\n",
              "      <td>2</td>\n",
              "      <td>2</td>\n",
              "      <td>7</td>\n",
              "      <td>2</td>\n",
              "    </tr>\n",
              "    <tr>\n",
              "      <th>1048572</th>\n",
              "      <td>2</td>\n",
              "      <td>13</td>\n",
              "      <td>2</td>\n",
              "      <td>1</td>\n",
              "      <td>9999-99-99</td>\n",
              "      <td>97</td>\n",
              "      <td>2</td>\n",
              "      <td>55</td>\n",
              "      <td>97</td>\n",
              "      <td>2</td>\n",
              "      <td>...</td>\n",
              "      <td>2</td>\n",
              "      <td>2</td>\n",
              "      <td>2</td>\n",
              "      <td>2</td>\n",
              "      <td>2</td>\n",
              "      <td>2</td>\n",
              "      <td>2</td>\n",
              "      <td>2</td>\n",
              "      <td>7</td>\n",
              "      <td>97</td>\n",
              "    </tr>\n",
              "    <tr>\n",
              "      <th>1048573</th>\n",
              "      <td>2</td>\n",
              "      <td>13</td>\n",
              "      <td>2</td>\n",
              "      <td>1</td>\n",
              "      <td>9999-99-99</td>\n",
              "      <td>97</td>\n",
              "      <td>2</td>\n",
              "      <td>28</td>\n",
              "      <td>97</td>\n",
              "      <td>2</td>\n",
              "      <td>...</td>\n",
              "      <td>2</td>\n",
              "      <td>2</td>\n",
              "      <td>2</td>\n",
              "      <td>2</td>\n",
              "      <td>2</td>\n",
              "      <td>2</td>\n",
              "      <td>2</td>\n",
              "      <td>2</td>\n",
              "      <td>7</td>\n",
              "      <td>97</td>\n",
              "    </tr>\n",
              "    <tr>\n",
              "      <th>1048574</th>\n",
              "      <td>2</td>\n",
              "      <td>13</td>\n",
              "      <td>2</td>\n",
              "      <td>1</td>\n",
              "      <td>9999-99-99</td>\n",
              "      <td>97</td>\n",
              "      <td>2</td>\n",
              "      <td>52</td>\n",
              "      <td>97</td>\n",
              "      <td>2</td>\n",
              "      <td>...</td>\n",
              "      <td>2</td>\n",
              "      <td>2</td>\n",
              "      <td>2</td>\n",
              "      <td>2</td>\n",
              "      <td>2</td>\n",
              "      <td>2</td>\n",
              "      <td>2</td>\n",
              "      <td>2</td>\n",
              "      <td>7</td>\n",
              "      <td>97</td>\n",
              "    </tr>\n",
              "  </tbody>\n",
              "</table>\n",
              "<p>5 rows × 21 columns</p>\n",
              "</div>\n",
              "      <button class=\"colab-df-convert\" onclick=\"convertToInteractive('df-dd080b13-75f4-40f3-8c84-5f81517a827e')\"\n",
              "              title=\"Convert this dataframe to an interactive table.\"\n",
              "              style=\"display:none;\">\n",
              "        \n",
              "  <svg xmlns=\"http://www.w3.org/2000/svg\" height=\"24px\"viewBox=\"0 0 24 24\"\n",
              "       width=\"24px\">\n",
              "    <path d=\"M0 0h24v24H0V0z\" fill=\"none\"/>\n",
              "    <path d=\"M18.56 5.44l.94 2.06.94-2.06 2.06-.94-2.06-.94-.94-2.06-.94 2.06-2.06.94zm-11 1L8.5 8.5l.94-2.06 2.06-.94-2.06-.94L8.5 2.5l-.94 2.06-2.06.94zm10 10l.94 2.06.94-2.06 2.06-.94-2.06-.94-.94-2.06-.94 2.06-2.06.94z\"/><path d=\"M17.41 7.96l-1.37-1.37c-.4-.4-.92-.59-1.43-.59-.52 0-1.04.2-1.43.59L10.3 9.45l-7.72 7.72c-.78.78-.78 2.05 0 2.83L4 21.41c.39.39.9.59 1.41.59.51 0 1.02-.2 1.41-.59l7.78-7.78 2.81-2.81c.8-.78.8-2.07 0-2.86zM5.41 20L4 18.59l7.72-7.72 1.47 1.35L5.41 20z\"/>\n",
              "  </svg>\n",
              "      </button>\n",
              "      \n",
              "  <style>\n",
              "    .colab-df-container {\n",
              "      display:flex;\n",
              "      flex-wrap:wrap;\n",
              "      gap: 12px;\n",
              "    }\n",
              "\n",
              "    .colab-df-convert {\n",
              "      background-color: #E8F0FE;\n",
              "      border: none;\n",
              "      border-radius: 50%;\n",
              "      cursor: pointer;\n",
              "      display: none;\n",
              "      fill: #1967D2;\n",
              "      height: 32px;\n",
              "      padding: 0 0 0 0;\n",
              "      width: 32px;\n",
              "    }\n",
              "\n",
              "    .colab-df-convert:hover {\n",
              "      background-color: #E2EBFA;\n",
              "      box-shadow: 0px 1px 2px rgba(60, 64, 67, 0.3), 0px 1px 3px 1px rgba(60, 64, 67, 0.15);\n",
              "      fill: #174EA6;\n",
              "    }\n",
              "\n",
              "    [theme=dark] .colab-df-convert {\n",
              "      background-color: #3B4455;\n",
              "      fill: #D2E3FC;\n",
              "    }\n",
              "\n",
              "    [theme=dark] .colab-df-convert:hover {\n",
              "      background-color: #434B5C;\n",
              "      box-shadow: 0px 1px 3px 1px rgba(0, 0, 0, 0.15);\n",
              "      filter: drop-shadow(0px 1px 2px rgba(0, 0, 0, 0.3));\n",
              "      fill: #FFFFFF;\n",
              "    }\n",
              "  </style>\n",
              "\n",
              "      <script>\n",
              "        const buttonEl =\n",
              "          document.querySelector('#df-dd080b13-75f4-40f3-8c84-5f81517a827e button.colab-df-convert');\n",
              "        buttonEl.style.display =\n",
              "          google.colab.kernel.accessAllowed ? 'block' : 'none';\n",
              "\n",
              "        async function convertToInteractive(key) {\n",
              "          const element = document.querySelector('#df-dd080b13-75f4-40f3-8c84-5f81517a827e');\n",
              "          const dataTable =\n",
              "            await google.colab.kernel.invokeFunction('convertToInteractive',\n",
              "                                                     [key], {});\n",
              "          if (!dataTable) return;\n",
              "\n",
              "          const docLinkHtml = 'Like what you see? Visit the ' +\n",
              "            '<a target=\"_blank\" href=https://colab.research.google.com/notebooks/data_table.ipynb>data table notebook</a>'\n",
              "            + ' to learn more about interactive tables.';\n",
              "          element.innerHTML = '';\n",
              "          dataTable['output_type'] = 'display_data';\n",
              "          await google.colab.output.renderOutput(dataTable, element);\n",
              "          const docLink = document.createElement('div');\n",
              "          docLink.innerHTML = docLinkHtml;\n",
              "          element.appendChild(docLink);\n",
              "        }\n",
              "      </script>\n",
              "    </div>\n",
              "  </div>\n",
              "  "
            ]
          },
          "metadata": {},
          "execution_count": 7
        }
      ],
      "source": [
        "df.tail()"
      ]
    },
    {
      "cell_type": "code",
      "execution_count": null,
      "metadata": {
        "id": "IXlevdbkyv0P",
        "colab": {
          "base_uri": "https://localhost:8080/"
        },
        "outputId": "edeb7893-23a7-45a6-a8fa-9c8f2d02ef44"
      },
      "outputs": [
        {
          "output_type": "stream",
          "name": "stdout",
          "text": [
            "<class 'pandas.core.frame.DataFrame'>\n",
            "RangeIndex: 1048575 entries, 0 to 1048574\n",
            "Data columns (total 21 columns):\n",
            " #   Column                Non-Null Count    Dtype \n",
            "---  ------                --------------    ----- \n",
            " 0   USMER                 1048575 non-null  int64 \n",
            " 1   MEDICAL_UNIT          1048575 non-null  int64 \n",
            " 2   SEX                   1048575 non-null  int64 \n",
            " 3   PATIENT_TYPE          1048575 non-null  int64 \n",
            " 4   DATE_DIED             1048575 non-null  object\n",
            " 5   INTUBED               1048575 non-null  int64 \n",
            " 6   PNEUMONIA             1048575 non-null  int64 \n",
            " 7   AGE                   1048575 non-null  int64 \n",
            " 8   PREGNANT              1048575 non-null  int64 \n",
            " 9   DIABETES              1048575 non-null  int64 \n",
            " 10  COPD                  1048575 non-null  int64 \n",
            " 11  ASTHMA                1048575 non-null  int64 \n",
            " 12  INMSUPR               1048575 non-null  int64 \n",
            " 13  HIPERTENSION          1048575 non-null  int64 \n",
            " 14  OTHER_DISEASE         1048575 non-null  int64 \n",
            " 15  CARDIOVASCULAR        1048575 non-null  int64 \n",
            " 16  OBESITY               1048575 non-null  int64 \n",
            " 17  RENAL_CHRONIC         1048575 non-null  int64 \n",
            " 18  TOBACCO               1048575 non-null  int64 \n",
            " 19  CLASIFFICATION_FINAL  1048575 non-null  int64 \n",
            " 20  ICU                   1048575 non-null  int64 \n",
            "dtypes: int64(20), object(1)\n",
            "memory usage: 168.0+ MB\n"
          ]
        }
      ],
      "source": [
        "df.info()"
      ]
    },
    {
      "cell_type": "code",
      "execution_count": null,
      "metadata": {
        "id": "PMINS-QHbJny",
        "colab": {
          "base_uri": "https://localhost:8080/"
        },
        "outputId": "52335e73-cc91-4f73-c47b-927a24c359de"
      },
      "outputs": [
        {
          "output_type": "execute_result",
          "data": {
            "text/plain": [
              "USMER                   0\n",
              "MEDICAL_UNIT            0\n",
              "SEX                     0\n",
              "PATIENT_TYPE            0\n",
              "DATE_DIED               0\n",
              "INTUBED                 0\n",
              "PNEUMONIA               0\n",
              "AGE                     0\n",
              "PREGNANT                0\n",
              "DIABETES                0\n",
              "COPD                    0\n",
              "ASTHMA                  0\n",
              "INMSUPR                 0\n",
              "HIPERTENSION            0\n",
              "OTHER_DISEASE           0\n",
              "CARDIOVASCULAR          0\n",
              "OBESITY                 0\n",
              "RENAL_CHRONIC           0\n",
              "TOBACCO                 0\n",
              "CLASIFFICATION_FINAL    0\n",
              "ICU                     0\n",
              "dtype: int64"
            ]
          },
          "metadata": {},
          "execution_count": 9
        }
      ],
      "source": [
        "# Null values in columns\n",
        "\n",
        "df.isnull().sum()"
      ]
    },
    {
      "cell_type": "markdown",
      "metadata": {
        "id": "EVZZG_gVH3Kk"
      },
      "source": [
        "We can see that there is no null value in this dataset. But there must be some ambiguous data since it is a dataset of 1 million rows. So we have to look deeper."
      ]
    },
    {
      "cell_type": "code",
      "execution_count": null,
      "metadata": {
        "id": "k7HIyVoVbLh6",
        "colab": {
          "base_uri": "https://localhost:8080/"
        },
        "outputId": "d56ae2ee-e15a-4172-ef85-7c0692f67e23"
      },
      "outputs": [
        {
          "output_type": "stream",
          "name": "stdout",
          "text": [
            "USMER => 2\n",
            "MEDICAL_UNIT => 13\n",
            "SEX => 2\n",
            "PATIENT_TYPE => 2\n",
            "DATE_DIED => 401\n",
            "INTUBED => 4\n",
            "PNEUMONIA => 3\n",
            "AGE => 121\n",
            "PREGNANT => 4\n",
            "DIABETES => 3\n",
            "COPD => 3\n",
            "ASTHMA => 3\n",
            "INMSUPR => 3\n",
            "HIPERTENSION => 3\n",
            "OTHER_DISEASE => 3\n",
            "CARDIOVASCULAR => 3\n",
            "OBESITY => 3\n",
            "RENAL_CHRONIC => 3\n",
            "TOBACCO => 3\n",
            "CLASIFFICATION_FINAL => 7\n",
            "ICU => 4\n"
          ]
        }
      ],
      "source": [
        "# Unique values in columns\n",
        "\n",
        "for i in df.columns:\n",
        "    print(i, \"=>\", len(df[i].unique()))"
      ]
    },
    {
      "cell_type": "markdown",
      "metadata": {
        "id": "tD_Egc68XHXs"
      },
      "source": [
        "## Ambiguous Data\n",
        "We try to explore the data and look if there is any data that does not make any sense. We visualize them and mark them for preprocessing."
      ]
    },
    {
      "cell_type": "code",
      "execution_count": null,
      "metadata": {
        "id": "5dk2HHlrHNNO",
        "colab": {
          "base_uri": "https://localhost:8080/"
        },
        "outputId": "0f585a58-8593-46c4-e273-6e80d37c794f"
      },
      "outputs": [
        {
          "output_type": "execute_result",
          "data": {
            "text/plain": [
              "9999-99-99    971633\n",
              "06/07/2020      1000\n",
              "07/07/2020       996\n",
              "13/07/2020       990\n",
              "16/06/2020       979\n",
              "               ...  \n",
              "24/11/2020         1\n",
              "17/12/2020         1\n",
              "08/12/2020         1\n",
              "16/03/2021         1\n",
              "22/04/2021         1\n",
              "Name: DATE_DIED, Length: 401, dtype: int64"
            ]
          },
          "metadata": {},
          "execution_count": 11
        }
      ],
      "source": [
        "# Death count based on dates\n",
        "\n",
        "df.DATE_DIED.value_counts()"
      ]
    },
    {
      "cell_type": "markdown",
      "metadata": {
        "id": "BGBI-koqLfeu"
      },
      "source": [
        "Here, the date `9999-99-99` does not make any sense. So we consider those corresponding patients not dead."
      ]
    },
    {
      "cell_type": "code",
      "execution_count": null,
      "metadata": {
        "id": "LB_Dd8l2eSv3",
        "colab": {
          "base_uri": "https://localhost:8080/"
        },
        "outputId": "531dfc76-5e88-45ac-ab71-ca1ef36db0c7"
      },
      "outputs": [
        {
          "output_type": "execute_result",
          "data": {
            "text/plain": [
              "97    848544\n",
              "2     159050\n",
              "1      33656\n",
              "99      7325\n",
              "Name: INTUBED, dtype: int64"
            ]
          },
          "metadata": {},
          "execution_count": 12
        }
      ],
      "source": [
        "# Patients connected to ventilation\n",
        "\n",
        "df.INTUBED.value_counts()"
      ]
    },
    {
      "cell_type": "code",
      "execution_count": null,
      "metadata": {
        "id": "ERHhrdngeay7",
        "colab": {
          "base_uri": "https://localhost:8080/"
        },
        "outputId": "cc5d785f-af64-402f-c9e6-68dc9b314449"
      },
      "outputs": [
        {
          "output_type": "execute_result",
          "data": {
            "text/plain": [
              "97    848544\n",
              "2     175685\n",
              "1      16858\n",
              "99      7488\n",
              "Name: ICU, dtype: int64"
            ]
          },
          "metadata": {},
          "execution_count": 13
        }
      ],
      "source": [
        "# Patients in ICU\n",
        "\n",
        "df.ICU.value_counts()"
      ]
    },
    {
      "cell_type": "markdown",
      "metadata": {
        "id": "DAXDFaZXfV06"
      },
      "source": [
        "Here, we can see that there is a lot of ambiguous data in `ICU` & `INTUBED` column."
      ]
    },
    {
      "cell_type": "code",
      "execution_count": null,
      "metadata": {
        "id": "Mjg7NWFdNf6p",
        "colab": {
          "base_uri": "https://localhost:8080/"
        },
        "outputId": "6dd504a4-1661-4ca8-e44e-40ff234cf75f"
      },
      "outputs": [
        {
          "output_type": "execute_result",
          "data": {
            "text/plain": [
              "2     920248\n",
              "1     124989\n",
              "98      3338\n",
              "Name: DIABETES, dtype: int64"
            ]
          },
          "metadata": {},
          "execution_count": 14
        }
      ],
      "source": [
        "# Patients with diabetes\n",
        "\n",
        "df.DIABETES.value_counts()"
      ]
    },
    {
      "cell_type": "markdown",
      "metadata": {
        "id": "yAP8ajk3Qb-Q"
      },
      "source": [
        "Here, we know that a person can either have Diabetes (`1`) or not have Diabetes (`0`).\n",
        "\n",
        "Meaning, there is supposed to be only 2 values for `DIABETES`. Therefore, `98` represents NaN value here.\n",
        "\n",
        "Same goes for `PNEUMONIA`, `COPD`, `ASTHMA`, etc."
      ]
    },
    {
      "cell_type": "code",
      "execution_count": null,
      "metadata": {
        "id": "s55AX_54QyRL",
        "colab": {
          "base_uri": "https://localhost:8080/"
        },
        "outputId": "563e0d4c-1663-4362-febb-90fb7a0cffad"
      },
      "outputs": [
        {
          "output_type": "execute_result",
          "data": {
            "text/plain": [
              "97    523511\n",
              "2     513179\n",
              "1       8131\n",
              "98      3754\n",
              "Name: PREGNANT, dtype: int64"
            ]
          },
          "metadata": {},
          "execution_count": 15
        }
      ],
      "source": [
        "# Patients with pregnancy\n",
        "\n",
        "df.PREGNANT.value_counts()"
      ]
    },
    {
      "cell_type": "code",
      "execution_count": null,
      "metadata": {
        "id": "COmHXjTTUE2m",
        "colab": {
          "base_uri": "https://localhost:8080/",
          "height": 143
        },
        "outputId": "d19ff0d0-fd53-4389-b63d-dbb4523b7abe"
      },
      "outputs": [
        {
          "output_type": "execute_result",
          "data": {
            "text/plain": [
              "PREGNANT    1       2       97    98\n",
              "SEX                                 \n",
              "1         8131  513179       0  3754\n",
              "2            0       0  523511     0"
            ],
            "text/html": [
              "\n",
              "  <div id=\"df-8538726a-93e2-41af-abcf-9fbc1b9e979d\">\n",
              "    <div class=\"colab-df-container\">\n",
              "      <div>\n",
              "<style scoped>\n",
              "    .dataframe tbody tr th:only-of-type {\n",
              "        vertical-align: middle;\n",
              "    }\n",
              "\n",
              "    .dataframe tbody tr th {\n",
              "        vertical-align: top;\n",
              "    }\n",
              "\n",
              "    .dataframe thead th {\n",
              "        text-align: right;\n",
              "    }\n",
              "</style>\n",
              "<table border=\"1\" class=\"dataframe\">\n",
              "  <thead>\n",
              "    <tr style=\"text-align: right;\">\n",
              "      <th>PREGNANT</th>\n",
              "      <th>1</th>\n",
              "      <th>2</th>\n",
              "      <th>97</th>\n",
              "      <th>98</th>\n",
              "    </tr>\n",
              "    <tr>\n",
              "      <th>SEX</th>\n",
              "      <th></th>\n",
              "      <th></th>\n",
              "      <th></th>\n",
              "      <th></th>\n",
              "    </tr>\n",
              "  </thead>\n",
              "  <tbody>\n",
              "    <tr>\n",
              "      <th>1</th>\n",
              "      <td>8131</td>\n",
              "      <td>513179</td>\n",
              "      <td>0</td>\n",
              "      <td>3754</td>\n",
              "    </tr>\n",
              "    <tr>\n",
              "      <th>2</th>\n",
              "      <td>0</td>\n",
              "      <td>0</td>\n",
              "      <td>523511</td>\n",
              "      <td>0</td>\n",
              "    </tr>\n",
              "  </tbody>\n",
              "</table>\n",
              "</div>\n",
              "      <button class=\"colab-df-convert\" onclick=\"convertToInteractive('df-8538726a-93e2-41af-abcf-9fbc1b9e979d')\"\n",
              "              title=\"Convert this dataframe to an interactive table.\"\n",
              "              style=\"display:none;\">\n",
              "        \n",
              "  <svg xmlns=\"http://www.w3.org/2000/svg\" height=\"24px\"viewBox=\"0 0 24 24\"\n",
              "       width=\"24px\">\n",
              "    <path d=\"M0 0h24v24H0V0z\" fill=\"none\"/>\n",
              "    <path d=\"M18.56 5.44l.94 2.06.94-2.06 2.06-.94-2.06-.94-.94-2.06-.94 2.06-2.06.94zm-11 1L8.5 8.5l.94-2.06 2.06-.94-2.06-.94L8.5 2.5l-.94 2.06-2.06.94zm10 10l.94 2.06.94-2.06 2.06-.94-2.06-.94-.94-2.06-.94 2.06-2.06.94z\"/><path d=\"M17.41 7.96l-1.37-1.37c-.4-.4-.92-.59-1.43-.59-.52 0-1.04.2-1.43.59L10.3 9.45l-7.72 7.72c-.78.78-.78 2.05 0 2.83L4 21.41c.39.39.9.59 1.41.59.51 0 1.02-.2 1.41-.59l7.78-7.78 2.81-2.81c.8-.78.8-2.07 0-2.86zM5.41 20L4 18.59l7.72-7.72 1.47 1.35L5.41 20z\"/>\n",
              "  </svg>\n",
              "      </button>\n",
              "      \n",
              "  <style>\n",
              "    .colab-df-container {\n",
              "      display:flex;\n",
              "      flex-wrap:wrap;\n",
              "      gap: 12px;\n",
              "    }\n",
              "\n",
              "    .colab-df-convert {\n",
              "      background-color: #E8F0FE;\n",
              "      border: none;\n",
              "      border-radius: 50%;\n",
              "      cursor: pointer;\n",
              "      display: none;\n",
              "      fill: #1967D2;\n",
              "      height: 32px;\n",
              "      padding: 0 0 0 0;\n",
              "      width: 32px;\n",
              "    }\n",
              "\n",
              "    .colab-df-convert:hover {\n",
              "      background-color: #E2EBFA;\n",
              "      box-shadow: 0px 1px 2px rgba(60, 64, 67, 0.3), 0px 1px 3px 1px rgba(60, 64, 67, 0.15);\n",
              "      fill: #174EA6;\n",
              "    }\n",
              "\n",
              "    [theme=dark] .colab-df-convert {\n",
              "      background-color: #3B4455;\n",
              "      fill: #D2E3FC;\n",
              "    }\n",
              "\n",
              "    [theme=dark] .colab-df-convert:hover {\n",
              "      background-color: #434B5C;\n",
              "      box-shadow: 0px 1px 3px 1px rgba(0, 0, 0, 0.15);\n",
              "      filter: drop-shadow(0px 1px 2px rgba(0, 0, 0, 0.3));\n",
              "      fill: #FFFFFF;\n",
              "    }\n",
              "  </style>\n",
              "\n",
              "      <script>\n",
              "        const buttonEl =\n",
              "          document.querySelector('#df-8538726a-93e2-41af-abcf-9fbc1b9e979d button.colab-df-convert');\n",
              "        buttonEl.style.display =\n",
              "          google.colab.kernel.accessAllowed ? 'block' : 'none';\n",
              "\n",
              "        async function convertToInteractive(key) {\n",
              "          const element = document.querySelector('#df-8538726a-93e2-41af-abcf-9fbc1b9e979d');\n",
              "          const dataTable =\n",
              "            await google.colab.kernel.invokeFunction('convertToInteractive',\n",
              "                                                     [key], {});\n",
              "          if (!dataTable) return;\n",
              "\n",
              "          const docLinkHtml = 'Like what you see? Visit the ' +\n",
              "            '<a target=\"_blank\" href=https://colab.research.google.com/notebooks/data_table.ipynb>data table notebook</a>'\n",
              "            + ' to learn more about interactive tables.';\n",
              "          element.innerHTML = '';\n",
              "          dataTable['output_type'] = 'display_data';\n",
              "          await google.colab.output.renderOutput(dataTable, element);\n",
              "          const docLink = document.createElement('div');\n",
              "          docLink.innerHTML = docLinkHtml;\n",
              "          element.appendChild(docLink);\n",
              "        }\n",
              "      </script>\n",
              "    </div>\n",
              "  </div>\n",
              "  "
            ]
          },
          "metadata": {},
          "execution_count": 16
        }
      ],
      "source": [
        "pd.crosstab(df.SEX, df.PREGNANT)"
      ]
    },
    {
      "cell_type": "code",
      "execution_count": null,
      "metadata": {
        "id": "ujb06bLB7YvN",
        "colab": {
          "base_uri": "https://localhost:8080/",
          "height": 299
        },
        "outputId": "d0b8be7c-f2e6-494e-9240-2016a946bc8c"
      },
      "outputs": [
        {
          "output_type": "display_data",
          "data": {
            "text/plain": [
              "<Figure size 432x288 with 1 Axes>"
            ],
            "image/png": "[encoded data removed]"
          },
          "metadata": {
            "needs_background": "light"
          }
        }
      ],
      "source": [
        "sns.countplot(x=df.SEX,\n",
        "              hue=df.PREGNANT,\n",
        "              palette=\"Blues\")\n",
        "\n",
        "plt.legend(loc='best')\n",
        "plt.title(\"Pregnancy vs Sex\",fontsize=18, color=\"blue\");"
      ]
    },
    {
      "cell_type": "markdown",
      "metadata": {
        "id": "ZliMaQsEUh-z"
      },
      "source": [
        "Here, `97` of `PREGNANT` represents male patients that are pregnant. We know that, this is impossible."
      ]
    },
    {
      "cell_type": "markdown",
      "metadata": {
        "id": "5X0EUkWrWb0H"
      },
      "source": [
        "## Data Preprocessing\n",
        "\n",
        "Now we get rid of missing values and deal with ambiguous data. We can either delete the entire rows or manipulate them according to the context."
      ]
    },
    {
      "cell_type": "code",
      "execution_count": null,
      "metadata": {
        "id": "YbXtc-x2W0CS"
      },
      "outputs": [],
      "source": [
        "# Dealing with columns other than PREGNANT, DATE_DIED, ICU, INTUBED\n",
        "\n",
        "df = df[(df.PNEUMONIA == 1) | (df.PNEUMONIA == 2)]\n",
        "df = df[(df.DIABETES == 1) | (df.DIABETES == 2)]\n",
        "df = df[(df.COPD == 1) | (df.COPD == 2)]\n",
        "df = df[(df.ASTHMA == 1) | (df.ASTHMA == 2)]\n",
        "df = df[(df.INMSUPR == 1) | (df.INMSUPR == 2)]\n",
        "df = df[(df.HIPERTENSION == 1) | (df.HIPERTENSION == 2)]\n",
        "df = df[(df.OTHER_DISEASE == 1) | (df.OTHER_DISEASE == 2)]\n",
        "df = df[(df.CARDIOVASCULAR == 1) | (df.CARDIOVASCULAR == 2)]\n",
        "df = df[(df.OBESITY == 1) | (df.OBESITY == 2)]\n",
        "df = df[(df.RENAL_CHRONIC == 1) | (df.RENAL_CHRONIC == 2)]\n",
        "df = df[(df.TOBACCO == 1) | (df.TOBACCO == 2)]"
      ]
    },
    {
      "cell_type": "markdown",
      "metadata": {
        "id": "gqJ_NXuYZMAB"
      },
      "source": [
        "Here, we only kept the rows with values `1` and `2`. We dropped all others."
      ]
    },
    {
      "cell_type": "code",
      "execution_count": null,
      "metadata": {
        "id": "u8SM7LJEbMt_"
      },
      "outputs": [],
      "source": [
        "# Dealing with PREGNANT column\n",
        "\n",
        "df.PREGNANT = df.PREGNANT.replace(97, 2)\n",
        "df = df[(df.PREGNANT == 1) | (df.PREGNANT == 2)]"
      ]
    },
    {
      "cell_type": "markdown",
      "metadata": {
        "id": "b1qy95irbzrd"
      },
      "source": [
        "Here, we replaced value `97` (male pregnant patients) with the value `2` (real pregnant). And we dropped others."
      ]
    },
    {
      "cell_type": "code",
      "execution_count": null,
      "metadata": {
        "id": "wUcUb-5XcJT0"
      },
      "outputs": [],
      "source": [
        "# Dealing with DATE_DIED column\n",
        "\n",
        "df[\"DEATH\"] = [2 if date == '9999-99-99' else 1 for date in df.DATE_DIED]\n",
        "df.drop(columns=[\"DATE_DIED\"], inplace=True)"
      ]
    },
    {
      "cell_type": "markdown",
      "metadata": {
        "id": "N5xbKEkXdeP_"
      },
      "source": [
        "Here, we created a new column named `DEAD` that represents whether a patient is alive.\n",
        "\n",
        "Therefore, we don't need `DATE_DIED` column, so we drop it."
      ]
    },
    {
      "cell_type": "code",
      "execution_count": null,
      "metadata": {
        "id": "plH_A7GzeMFJ"
      },
      "outputs": [],
      "source": [
        "# Dealing with ICU column & INTUBED column\n",
        "\n",
        "df.drop(columns=[\"ICU\", \"INTUBED\"], inplace=True)"
      ]
    },
    {
      "cell_type": "markdown",
      "metadata": {
        "id": "tLw9ocjkgVIp"
      },
      "source": [
        "`ICU` and `INTUBED` columns have too many ambiguous data to deal with that can be simply ignored."
      ]
    },
    {
      "cell_type": "markdown",
      "metadata": {
        "id": "XUb7VeGugk77"
      },
      "source": [
        "## Data Visualization\n",
        "Now that we are done dealing with missing and ambiguous data, we try to visualize the dataset and its different columns for easier exploration and better model construction."
      ]
    },
    {
      "cell_type": "code",
      "execution_count": null,
      "metadata": {
        "colab": {
          "base_uri": "https://localhost:8080/",
          "height": 824
        },
        "id": "WL8jpQA62mfn",
        "outputId": "8392bc08-9da1-4d40-8c48-7360812e1967"
      },
      "outputs": [
        {
          "output_type": "display_data",
          "data": {
            "text/plain": [
              "<Figure size 1080x864 with 2 Axes>"
            ],
            "image/png": "[encoded data removed]"
          },
          "metadata": {
            "needs_background": "light"
          }
        }
      ],
      "source": [
        "# Correlation Matrix\n",
        "\n",
        "plt.figure(figsize=(15,12))\n",
        "sns.heatmap(df.corr(),\n",
        "            annot=True,\n",
        "            cmap=\"Blues\",\n",
        "            fmt=\".2f\")\n",
        "\n",
        "plt.title(\"Correlation Between Features\",\n",
        "          fontsize=18,\n",
        "          color=\"blue\");"
      ]
    },
    {
      "cell_type": "markdown",
      "metadata": {
        "id": "7Mj82XC5AbL_"
      },
      "source": [
        "From this correlation matrix, we can see which features are more related to each other. The darker the color is, the more related they are."
      ]
    },
    {
      "cell_type": "code",
      "execution_count": null,
      "metadata": {
        "colab": {
          "base_uri": "https://localhost:8080/",
          "height": 299
        },
        "id": "-KiE_DMeDjPY",
        "outputId": "65cee832-1c60-4e9d-9020-dadfd8f40159"
      },
      "outputs": [
        {
          "output_type": "display_data",
          "data": {
            "text/plain": [
              "<Figure size 432x288 with 1 Axes>"
            ],
            "image/png": "[encoded data removed]"
          },
          "metadata": {
            "needs_background": "light"
          }
        }
      ],
      "source": [
        "# Patients that are dead\n",
        "\n",
        "ax = sns.countplot(x=df.DEATH,\n",
        "                   palette=\"Blues\")\n",
        "\n",
        "plt.title(\"Death Distribution\", fontsize=18, color=\"blue\")\n",
        "plt.bar_label(ax.containers[0])\n",
        "plt.xticks([0, 1], [\"Dead\", \"Alive\"]);"
      ]
    },
    {
      "cell_type": "code",
      "execution_count": null,
      "metadata": {
        "colab": {
          "base_uri": "https://localhost:8080/",
          "height": 299
        },
        "id": "wY5mTHNBjRXK",
        "outputId": "4077e74b-d981-44cc-86ac-f3c7d7bc32fd"
      },
      "outputs": [
        {
          "output_type": "display_data",
          "data": {
            "text/plain": [
              "<Figure size 432x288 with 1 Axes>"
            ],
            "image/png": "[encoded data removed]"
          },
          "metadata": {
            "needs_background": "light"
          }
        }
      ],
      "source": [
        "# Patients according to their ages\n",
        "\n",
        "sns.histplot(x=df.AGE)\n",
        "plt.title(\"Age Distribution\",\n",
        "          color=\"blue\",\n",
        "          fontsize=18);"
      ]
    },
    {
      "cell_type": "markdown",
      "metadata": {
        "id": "awcW4rfIpX_y"
      },
      "source": [
        "We can see that, most patients are between 20 to 60 years old"
      ]
    },
    {
      "cell_type": "code",
      "execution_count": null,
      "metadata": {
        "colab": {
          "base_uri": "https://localhost:8080/",
          "height": 299
        },
        "id": "VPJxE5tQxV3x",
        "outputId": "fdf55aa2-0bbc-4b10-ca43-429ff8baaedf"
      },
      "outputs": [
        {
          "output_type": "display_data",
          "data": {
            "text/plain": [
              "<Figure size 432x288 with 1 Axes>"
            ],
            "image/png": "[encoded data removed]"
          },
          "metadata": {
            "needs_background": "light"
          }
        }
      ],
      "source": [
        "# Relation between age & death\n",
        "\n",
        "sns.boxplot(x=\"DEATH\",\n",
        "            y=\"AGE\",\n",
        "            data=df,\n",
        "            palette=sns.color_palette(\"Blues\"))\n",
        "\n",
        "plt.title(\"Death vs Age\", fontsize=18, color=\"blue\")\n",
        "plt.xticks([0, 1], [\"Dead\", \"Alive\"]);"
      ]
    },
    {
      "cell_type": "markdown",
      "metadata": {
        "id": "vhfTCaEjx34E"
      },
      "source": [
        "We can see that, patients of `AGE` 30 to 70 are more likely to die than younger patients"
      ]
    },
    {
      "cell_type": "code",
      "execution_count": null,
      "metadata": {
        "colab": {
          "base_uri": "https://localhost:8080/",
          "height": 299
        },
        "id": "yA5hR1myEk1B",
        "outputId": "4ed10ec2-8285-4bde-ded5-2e6b5d408578"
      },
      "outputs": [
        {
          "output_type": "display_data",
          "data": {
            "text/plain": [
              "<Figure size 432x288 with 1 Axes>"
            ],
            "image/png": "[encoded data removed]"
          },
          "metadata": {
            "needs_background": "light"
          }
        }
      ],
      "source": [
        "# Patients according to their sex\n",
        "\n",
        "ax = sns.countplot(x=df.SEX,\n",
        "                   palette=\"Blues\")\n",
        "\n",
        "plt.title(\"Sex Distribution\", fontsize=18, color=\"blue\")\n",
        "plt.bar_label(ax.containers[0])\n",
        "plt.xticks([0, 1], [\"Female\", \"Male\"]);"
      ]
    },
    {
      "cell_type": "code",
      "execution_count": null,
      "metadata": {
        "colab": {
          "base_uri": "https://localhost:8080/",
          "height": 299
        },
        "id": "S83int7k4XOD",
        "outputId": "91a77924-aa46-43ef-9e02-daefe4b5166d"
      },
      "outputs": [
        {
          "output_type": "display_data",
          "data": {
            "text/plain": [
              "<Figure size 432x288 with 1 Axes>"
            ],
            "image/png": "[encoded data removed]"
          },
          "metadata": {
            "needs_background": "light"
          }
        }
      ],
      "source": [
        "# Death according to sex\n",
        "\n",
        "ax = sns.countplot(x=df.SEX,\n",
        "                   hue=df.DEATH,\n",
        "                   palette=\"Blues\")\n",
        "\n",
        "plt.title(\"Death vs Sex\", fontsize=18, color=\"blue\")\n",
        "plt.bar_label(ax.containers[0])\n",
        "plt.bar_label(ax.containers[1])\n",
        "\n",
        "plt.legend([\"Dead\", \"Alive\"], loc=\"best\")\n",
        "plt.xticks([0, 1], [\"Female\", \"Male\"]);"
      ]
    },
    {
      "cell_type": "markdown",
      "metadata": {
        "id": "PZ-IxDSR5N7Z"
      },
      "source": [
        "We can see that, male patients are more likely to die than female patients"
      ]
    },
    {
      "cell_type": "code",
      "execution_count": null,
      "metadata": {
        "colab": {
          "base_uri": "https://localhost:8080/",
          "height": 299
        },
        "id": "cc55vgBL6s54",
        "outputId": "565ea81c-4415-4e17-d134-64c7a67ca0f0"
      },
      "outputs": [
        {
          "output_type": "display_data",
          "data": {
            "text/plain": [
              "<Figure size 432x288 with 1 Axes>"
            ],
            "image/png": "[encoded data removed]"
          },
          "metadata": {
            "needs_background": "light"
          }
        }
      ],
      "source": [
        "# Relation between death & obesity\n",
        "\n",
        "ax = sns.countplot(x=df.OBESITY,\n",
        "                   hue=df.DEATH,\n",
        "                   palette=\"Blues\")\n",
        "\n",
        "plt.title(\"Death vs Obesity\", fontsize=18, color=\"blue\")\n",
        "plt.bar_label(ax.containers[0])\n",
        "plt.bar_label(ax.containers[1])\n",
        "\n",
        "plt.legend([\"Dead\", \"Alive\"], loc=\"best\")\n",
        "plt.xticks([0, 1], [\"Obese\", \"Fit\"]);"
      ]
    },
    {
      "cell_type": "markdown",
      "metadata": {
        "id": "xOIDmDA0CP4U"
      },
      "source": [
        "We can see that, obese patients are more likely to die than fit patients"
      ]
    },
    {
      "cell_type": "code",
      "execution_count": null,
      "metadata": {
        "colab": {
          "base_uri": "https://localhost:8080/",
          "height": 299
        },
        "id": "lFbbwsVOqeoF",
        "outputId": "e1b0fce4-defe-45fc-9b94-53d6fa9981ac"
      },
      "outputs": [
        {
          "output_type": "display_data",
          "data": {
            "text/plain": [
              "<Figure size 432x288 with 1 Axes>"
            ],
            "image/png": "[encoded data removed]"
          },
          "metadata": {
            "needs_background": "light"
          }
        }
      ],
      "source": [
        "# Relation between diabetes & hypertension\n",
        "\n",
        "ax = sns.countplot(x=df.DIABETES,\n",
        "                   hue=df.HIPERTENSION,\n",
        "                   palette=\"Blues\")\n",
        "\n",
        "plt.title(\"Diabetes vs Hypertension\", fontsize=18, color=\"blue\")\n",
        "plt.bar_label(ax.containers[0])\n",
        "plt.bar_label(ax.containers[1])\n",
        "\n",
        "plt.legend([\"Hypertension\", \"No Hypertension\"], loc=\"best\")\n",
        "plt.xticks([0, 1], [\"Yes\", \"No\"]);"
      ]
    },
    {
      "cell_type": "markdown",
      "metadata": {
        "id": "JNsEl1bgCetd"
      },
      "source": [
        "We can see that, those who has Diabetes is likely to have Hypertension too"
      ]
    },
    {
      "cell_type": "markdown",
      "metadata": {
        "id": "ilA_ilwbfDDI"
      },
      "source": [
        "###Model Training\n"
      ]
    },
    {
      "cell_type": "code",
      "execution_count": null,
      "metadata": {
        "id": "zoaLBGC5fNFM"
      },
      "outputs": [],
      "source": [
        "from sklearn.ensemble import AdaBoostClassifier\n",
        "from sklearn.tree import DecisionTreeClassifier\n",
        "from sklearn.linear_model import LogisticRegression\n",
        "from sklearn.neighbors import KNeighborsClassifier\n",
        "from sklearn.ensemble import RandomForestClassifier\n",
        "from sklearn.svm import LinearSVC\n",
        "\n",
        "from sklearn.metrics import roc_auc_score\n",
        "from sklearn.model_selection import train_test_split"
      ]
    },
    {
      "cell_type": "code",
      "execution_count": null,
      "metadata": {
        "id": "UOWX4AuhsgnG"
      },
      "outputs": [],
      "source": [
        "#independent variable\n",
        "X = df.drop(columns=\"DEATH\", axis=1)\n",
        "#dependent variable\n",
        "y = df[\"DEATH\"]"
      ]
    },
    {
      "cell_type": "code",
      "source": [
        "# Split the data into train & test sets\n",
        "np.random.seed(1)\n",
        "X_train, X_test, y_train, y_test = train_test_split(X, y, test_size=0.2)"
      ],
      "metadata": {
        "id": "g4R3yEaPPOGp"
      },
      "execution_count": null,
      "outputs": []
    },
    {
      "cell_type": "code",
      "source": [
        "models = {\"LR\": LogisticRegression(max_iter=1000),\n",
        "          \"KNN\": KNeighborsClassifier(n_neighbors=6),\n",
        "          \"RF\": RandomForestClassifier(),\n",
        "          \"DT\": DecisionTreeClassifier(max_depth=1),\n",
        "          \"SVM\": LinearSVC()}\n",
        "\n",
        "def fit_and_score(models, X_train, X_test, y_train, y_test):\n",
        "    np.random.seed(1)\n",
        "    model_scores = {}\n",
        "    for name, model in models.items():\n",
        "        model.fit(X_train, y_train)\n",
        "        model_scores[name] = model.score(X_test, y_test)\n",
        "\n",
        "    return model_scores"
      ],
      "metadata": {
        "id": "meKXZL1wN9TO"
      },
      "execution_count": null,
      "outputs": []
    },
    {
      "cell_type": "code",
      "source": [
        "model_scores = fit_and_score(models = models,\n",
        "                             X_train = X_train,\n",
        "                             X_test = X_test,\n",
        "                             y_train = y_train,\n",
        "                             y_test = y_test)\n",
        "model_scores"
      ],
      "metadata": {
        "colab": {
          "base_uri": "https://localhost:8080/"
        },
        "id": "fV5MtoBVOwhE",
        "outputId": "86381278-ecf2-4efa-d9e9-78844c287a39"
      },
      "execution_count": null,
      "outputs": [
        {
          "output_type": "stream",
          "name": "stderr",
          "text": [
            "/usr/local/lib/python3.8/dist-packages/sklearn/svm/_base.py:1206: ConvergenceWarning: Liblinear failed to converge, increase the number of iterations.\n",
            "  warnings.warn(\n"
          ]
        },
        {
          "output_type": "execute_result",
          "data": {
            "text/plain": [
              "{'LR': 0.9378363568758684,\n",
              " 'KNN': 0.9321170668701931,\n",
              " 'RF': 0.9342208262392611,\n",
              " 'DT': 0.9264662713556038,\n",
              " 'SVM': 0.9356787804066615}"
            ]
          },
          "metadata": {},
          "execution_count": 34
        }
      ]
    },
    {
      "cell_type": "markdown",
      "source": [
        "**Model Scores -**\n",
        "\n",
        "* Logistic Regression: 0.9378363568758684\n",
        "* K-Nearest Neighbors: 0.9321170668701931\n",
        "* Random Forest: 0.9342208262392611\n",
        "* Decision Tree: 0.9264662713556038\n",
        "* Support Vector Machine: 0.9356787804066615"
      ],
      "metadata": {
        "id": "OuzzH1kakIwH"
      }
    },
    {
      "cell_type": "code",
      "source": [
        "model_compare = pd.DataFrame(model_scores, index=[\"accuracy\"])\n",
        "model_compare.T.plot.bar();"
      ],
      "metadata": {
        "colab": {
          "base_uri": "https://localhost:8080/",
          "height": 277
        },
        "id": "n_UnWqpsSd5N",
        "outputId": "2b578e04-53bb-4ff6-e94d-dc27478cecd6"
      },
      "execution_count": null,
      "outputs": [
        {
          "output_type": "display_data",
          "data": {
            "text/plain": [
              "<Figure size 432x288 with 1 Axes>"
            ],
            "image/png": "[encoded data removed]"
          },
          "metadata": {
            "needs_background": "light"
          }
        }
      ]
    },
    {
      "cell_type": "markdown",
      "source": [
        "### AdaBoost"
      ],
      "metadata": {
        "id": "D0OhIyOmNMHa"
      }
    },
    {
      "cell_type": "code",
      "execution_count": null,
      "metadata": {
        "id": "n9eCYy7LkqBY"
      },
      "outputs": [],
      "source": [
        "adb_clf = AdaBoostClassifier(base_estimator=DecisionTreeClassifier(max_depth=1), n_estimators=100)\n",
        "adb_clf.fit(X_train, y_train)\n",
        "y_pred_proba = adb_clf.predict_proba(X_test)[:,1]\n",
        "adb_clf_roc_auc_score = roc_auc_score(y_test, y_pred_proba)"
      ]
    },
    {
      "cell_type": "markdown",
      "source": [
        "### ROC Curve"
      ],
      "metadata": {
        "id": "vIDXZInMX3ZJ"
      }
    },
    {
      "cell_type": "code",
      "execution_count": null,
      "metadata": {
        "colab": {
          "base_uri": "https://localhost:8080/"
        },
        "id": "F-SGMHrYkquC",
        "outputId": "25ddbe63-3e22-4f7c-f7a1-5c553d54c1a4"
      },
      "outputs": [
        {
          "output_type": "stream",
          "name": "stdout",
          "text": [
            "ROC AUC score: 0.96\n"
          ]
        }
      ],
      "source": [
        "print('ROC AUC score: {:.2f}'.format(adb_clf_roc_auc_score))"
      ]
    },
    {
      "cell_type": "code",
      "source": [
        "RocCurveDisplay.from_estimator(adb_clf, X_test, y_test);"
      ],
      "metadata": {
        "colab": {
          "base_uri": "https://localhost:8080/",
          "height": 279
        },
        "id": "m6D06ssUWKSF",
        "outputId": "a6cd255f-c079-4f0c-d201-9355fb180bdb"
      },
      "execution_count": null,
      "outputs": [
        {
          "output_type": "display_data",
          "data": {
            "text/plain": [
              "<Figure size 432x288 with 1 Axes>"
            ],
            "image/png": "[encoded data removed]"
          },
          "metadata": {
            "needs_background": "light"
          }
        }
      ]
    },
    {
      "cell_type": "markdown",
      "source": [
        "\n",
        "\n",
        "```\n",
        "# This is formatted as code\n",
        "```\n",
        "\n",
        "### Confusion Matrix"
      ],
      "metadata": {
        "id": "o0AzNY6-X-2G"
      }
    },
    {
      "cell_type": "code",
      "source": [
        "import seaborn as sns\n",
        "\n",
        "y_preds = adb_clf.predict(X_test)\n",
        "\n",
        "fig, ax = plt.subplots(figsize=(3, 3))\n",
        "ax = sns.heatmap(confusion_matrix(y_test, y_preds),\n",
        "                annot=True,\n",
        "                cbar=False)\n",
        "plt.xlabel(\"Truth\")\n",
        "plt.ylabel(\"Prediction\")"
      ],
      "metadata": {
        "colab": {
          "base_uri": "https://localhost:8080/",
          "height": 242
        },
        "id": "Vin5vxyXWShM",
        "outputId": "09e8dd4c-afa9-4258-bda4-19ff93c69419"
      },
      "execution_count": null,
      "outputs": [
        {
          "output_type": "execute_result",
          "data": {
            "text/plain": [
              "Text(6.0, 0.5, 'Prediction')"
            ]
          },
          "metadata": {},
          "execution_count": 40
        },
        {
          "output_type": "display_data",
          "data": {
            "text/plain": [
              "<Figure size 216x216 with 1 Axes>"
            ],
            "image/png": "[encoded data removed]"
          },
          "metadata": {
            "needs_background": "light"
          }
        }
      ]
    },
    {
      "cell_type": "code",
      "source": [
        "clf = adb_clf"
      ],
      "metadata": {
        "id": "VklNgaS2XqNN"
      },
      "execution_count": null,
      "outputs": []
    },
    {
      "cell_type": "markdown",
      "source": [
        "### Cross Validation\n",
        "`Accuracy` tells us how many times the ML model was correct overall. `Precision` is how good the model is at predicting a specific category. `Recall` tells us how many times the model was able to detect a specific category. `F1 Score` is the harmonic mean between precision and recall."
      ],
      "metadata": {
        "id": "UdetDYmLYEjP"
      }
    },
    {
      "cell_type": "code",
      "source": [
        "# Cross-validated Accuracy\n",
        "\n",
        "cv_accuracy = cross_val_score(clf, X, y,\n",
        "                        cv=5,\n",
        "                        scoring=\"accuracy\")\n",
        "cv_accuracy = np.mean(cv_accuracy)\n",
        "cv_accuracy"
      ],
      "metadata": {
        "colab": {
          "base_uri": "https://localhost:8080/"
        },
        "id": "S8eaVo4VXa8t",
        "outputId": "07f036a7-3aee-4ee6-ad98-77e475eeae3f"
      },
      "execution_count": null,
      "outputs": [
        {
          "output_type": "execute_result",
          "data": {
            "text/plain": [
              "0.8763368828963163"
            ]
          },
          "metadata": {},
          "execution_count": 42
        }
      ]
    },
    {
      "cell_type": "code",
      "source": [
        "# Cross-validated Precision\n",
        "\n",
        "cv_precision = cross_val_score(clf, X, y,\n",
        "                        cv=5,\n",
        "                        scoring=\"precision\")\n",
        "cv_precision = np.mean(cv_precision)\n",
        "cv_precision"
      ],
      "metadata": {
        "colab": {
          "base_uri": "https://localhost:8080/"
        },
        "id": "1pvOn1lWXbp0",
        "outputId": "d21e99d9-0de2-4526-a6d6-6fa11ccd635c"
      },
      "execution_count": null,
      "outputs": [
        {
          "output_type": "execute_result",
          "data": {
            "text/plain": [
              "0.5252307598397844"
            ]
          },
          "metadata": {},
          "execution_count": 43
        }
      ]
    },
    {
      "cell_type": "code",
      "source": [
        "# Cross-validated Recall\n",
        "\n",
        "cv_recall = cross_val_score(clf, X, y,\n",
        "                        cv=5,\n",
        "                        scoring=\"recall\")\n",
        "cv_recall = np.mean(cv_recall)\n",
        "cv_recall"
      ],
      "metadata": {
        "colab": {
          "base_uri": "https://localhost:8080/"
        },
        "id": "Zkssqtf2XhP1",
        "outputId": "f333342a-5b51-4989-c930-2937e4fdcf53"
      },
      "execution_count": null,
      "outputs": [
        {
          "output_type": "execute_result",
          "data": {
            "text/plain": [
              "0.430026401651185"
            ]
          },
          "metadata": {},
          "execution_count": 44
        }
      ]
    },
    {
      "cell_type": "code",
      "source": [
        "# Cross-validated F1\n",
        "\n",
        "cv_f1 = cross_val_score(clf, X, y,\n",
        "                        cv=5,\n",
        "                        scoring=\"f1\")\n",
        "cv_f1 = np.mean(cv_f1)\n",
        "cv_f1"
      ],
      "metadata": {
        "colab": {
          "base_uri": "https://localhost:8080/"
        },
        "id": "ILcp65TLXjPl",
        "outputId": "5a9c4ff2-05fe-454b-dbd5-b6654b62ead5"
      },
      "execution_count": null,
      "outputs": [
        {
          "output_type": "execute_result",
          "data": {
            "text/plain": [
              "0.3176187711181153"
            ]
          },
          "metadata": {},
          "execution_count": 45
        }
      ]
    },
    {
      "cell_type": "code",
      "source": [
        "cv_metrics = pd.DataFrame({\"Accuracy\": cv_accuracy,\n",
        "                           \"Precision\": cv_precision,\n",
        "                           \"Recall\": cv_recall,\n",
        "                           \"F1\": cv_f1},\n",
        "                           index=[0])\n",
        "\n",
        "cv_metrics.T.plot.bar(title=\"Cross-validated Classification Metrics\",\n",
        "                      legend=False);"
      ],
      "metadata": {
        "colab": {
          "base_uri": "https://localhost:8080/",
          "height": 317
        },
        "id": "PKQvQncjXj-u",
        "outputId": "aec12779-2854-4964-bf42-2a0fb2391c1b"
      },
      "execution_count": null,
      "outputs": [
        {
          "output_type": "display_data",
          "data": {
            "text/plain": [
              "<Figure size 432x288 with 1 Axes>"
            ],
            "image/png": "[encoded data removed]"
          },
          "metadata": {
            "needs_background": "light"
          }
        }
      ]
    }
  ],
  "metadata": {
    "colab": {
      "provenance": []
    },
    "kernelspec": {
      "display_name": "Python 3",
      "name": "python3"
    },
    "language_info": {
      "name": "python"
    },
    "accelerator": "GPU",
    "gpuClass": "standard"
  },
  "nbformat": 4,
  "nbformat_minor": 0
}